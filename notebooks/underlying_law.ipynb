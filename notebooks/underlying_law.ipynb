{
 "cells": [
  {
   "cell_type": "markdown",
   "id": "2ee392f2",
   "metadata": {},
   "source": [
    "This notebook is used to generate an LHAPDF set that is then used as underlying law\n",
    "when closure testing the POD model.\n",
    "\n",
    "The underlying law is chosen with 40 weights and so as to respect POS constraint.\n"
   ]
  },
  {
   "cell_type": "code",
   "execution_count": null,
   "id": "72d00a24",
   "metadata": {},
   "outputs": [],
   "source": [
    "from wmin.model import WMinPDF\n",
    "from colibri.constants import LHAPDF_XGRID, EXPORT_LABELS\n",
    "from colibri.export_results import write_exportgrid\n",
    "\n",
    "from validphys.core import PDF\n",
    "\n",
    "import numpy as np\n",
    "import matplotlib.pyplot as plt\n",
    "import os\n",
    "import yaml\n",
    "import pathlib"
   ]
  },
  {
   "cell_type": "code",
   "execution_count": 3,
   "id": "ea33fa7a",
   "metadata": {},
   "outputs": [],
   "source": [
    "wmin_basis_set = PDF(\"250503_pod_basis_40k\")\n",
    "n_basis = 40\n",
    "wmin_model = WMinPDF(wminpdfset = wmin_basis_set, n_basis=n_basis)\n",
    "\n",
    "\n",
    "grid_values_func = wmin_model.grid_values_func(LHAPDF_XGRID)"
   ]
  },
  {
   "cell_type": "code",
   "execution_count": 4,
   "id": "86d4f446",
   "metadata": {},
   "outputs": [],
   "source": [
    "weights = [-2.44584e-02,-2.27829e-03,6.86918e-03,4.33392e-02,-6.06252e-02,-2.36576e-03,-2.22891e-03,1.10946e-03,1.59785e-03,-2.39796e-02,-4.90364e-03,8.14362e-02,7.71050e-02,-2.11787e-03,3.40736e-02,9.03299e-02,3.97700e-03,-2.04571e-02,-3.12767e-03,-9.33985e-03,8.04985e-02,3.22638e-03,-6.37502e-02,-1.91750e-03,-7.71617e-02,2.59045e-03,-1.25197e-01,8.09652e-02,1.85341e-02,5.47452e-03,-5.09946e-02,-1.47552e-02,-6.09230e-03,-6.08293e-03,-9.42011e-02,2.92037e-02,-3.79023e-02,2.64634e-02,-8.94659e-02,-8.05915e-03]\n",
    "\n",
    "underlying_law = grid_values_func(weights)"
   ]
  },
  {
   "cell_type": "code",
   "execution_count": 8,
   "id": "2bc43e30",
   "metadata": {},
   "outputs": [
    {
     "data": {
      "text/plain": [
       "<matplotlib.legend.Legend at 0x16010eae0>"
      ]
     },
     "execution_count": 8,
     "metadata": {},
     "output_type": "execute_result"
    },
    {
     "data": {
      "image/png": "[encoded data removed]",
      "text/plain": [
       "<Figure size 640x480 with 1 Axes>"
      ]
     },
     "metadata": {},
     "output_type": "display_data"
    }
   ],
   "source": [
    "\n",
    "\n",
    "fig, ax = plt.subplots()\n",
    "ax.plot(LHAPDF_XGRID, underlying_law[3] , label=\"WMin PDF\")\n",
    "\n",
    "ax.set_xscale(\"log\")\n",
    "ax.legend()"
   ]
  },
  {
   "cell_type": "code",
   "execution_count": 9,
   "id": "a353895c",
   "metadata": {},
   "outputs": [
    {
     "name": "stdout",
     "output_type": "stream",
     "text": [
      "(14, 196)\n",
      "Test basis generated, still needs to be evolved\n"
     ]
    }
   ],
   "source": [
    "WRITE_GRID = np.array(underlying_law)\n",
    "fit_name = \"250503_pod_basis_40k_underlying_law_40w_pos\"\n",
    "\n",
    "if not os.path.exists(fit_name):\n",
    "    os.makedirs(fit_name)\n",
    "    os.makedirs(fit_name + \"/replicas\")\n",
    "    os.makedirs(fit_name + \"/input\")\n",
    "    # create runcard.yaml firl in input folder\n",
    "    runc = {\"theoryid\": 40000000}\n",
    "    with open(fit_name + \"/input/runcard.yaml\", \"w\") as f:\n",
    "        f.write(yaml.dump(runc))\n",
    "\n",
    "replicas_path = fit_name / pathlib.PosixPath(\"replicas\")\n",
    "\n",
    "if not os.path.exists(replicas_path):\n",
    "    os.makedirs(replicas_path)\n",
    "\n",
    "grid_for_writing = WRITE_GRID\n",
    "print(grid_for_writing.shape)\n",
    "\n",
    "replica_index = 0\n",
    "rep_path = replicas_path / f\"replica_{replica_index}\"\n",
    "rep_path.mkdir(exist_ok=True)\n",
    "grid_name = rep_path / fit_name\n",
    "\n",
    "\n",
    "write_exportgrid(\n",
    "    grid_for_writing=grid_for_writing,\n",
    "    grid_name=str(grid_name),\n",
    "    replica_index=replica_index,\n",
    "    Q=1.65,\n",
    "    xgrid=LHAPDF_XGRID,\n",
    "    export_labels=EXPORT_LABELS,\n",
    ")\n",
    "\n",
    "print(\"Test basis generated, still needs to be evolved\")"
   ]
  },
  {
   "cell_type": "code",
   "execution_count": null,
   "id": "9beb4977",
   "metadata": {},
   "outputs": [],
   "source": []
  }
 ],
 "metadata": {
  "kernelspec": {
   "display_name": "wmin-model-dev",
   "language": "python",
   "name": "python3"
  },
  "language_info": {
   "codemirror_mode": {
    "name": "ipython",
    "version": 3
   },
   "file_extension": ".py",
   "mimetype": "text/x-python",
   "name": "python",
   "nbconvert_exporter": "python",
   "pygments_lexer": "ipython3",
   "version": "3.12.6"
  }
 },
 "nbformat": 4,
 "nbformat_minor": 5
}
